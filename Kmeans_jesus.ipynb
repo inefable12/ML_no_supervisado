{
  "nbformat": 4,
  "nbformat_minor": 0,
  "metadata": {
    "colab": {
      "provenance": [],
      "collapsed_sections": [
        "uuO8V3PqWdSw",
        "1eBDHFVIbx-e",
        "LkL9_43ig3cs",
        "WEy79fQ9baMt",
        "K8hbWZB6cxzl",
        "ylLK4XXm792h",
        "qqwOFiVJ8Czh",
        "DnkACSkj8Muh",
        "-5NoBeXm34Df",
        "vzO8TLGE4Di_",
        "Q1qyJgBQ5mij",
        "oxp7UnjWLHBB"
      ],
      "authorship_tag": "ABX9TyPLWZJP70AIyEhAxBoBIyQ5",
      "include_colab_link": true
    },
    "kernelspec": {
      "name": "python3",
      "display_name": "Python 3"
    },
    "language_info": {
      "name": "python"
    }
  },
  "cells": [
    {
      "cell_type": "markdown",
      "metadata": {
        "id": "view-in-github",
        "colab_type": "text"
      },
      "source": [
        "<a href=\"https://colab.research.google.com/github/inefable12/ML_no_supervisado/blob/main/Kmeans_jesus.ipynb\" target=\"_parent\"><img src=\"https://colab.research.google.com/assets/colab-badge.svg\" alt=\"Open In Colab\"/></a>"
      ]
    },
    {
      "cell_type": "markdown",
      "source": [
        "<img src=\"https://blog.paperspace.com/content/images/size/w1050/2021/01/Fig10-1.gif\" width=\"300\" alt=\"Python logo\"  />\n",
        "<font color='blue'>$\\Large\\text{Universidad Peruana Cayetano Heredia}$</font>\n",
        "\n",
        "$$\\Large \\textit{Técnicas de Aprendizaje No Supervisado}$$\n",
        "\n",
        "$$\\large\\textbf{K-means}$$\n",
        "\n",
        "_Jesus Alvarado-Huayhuaz_\n",
        "___"
      ],
      "metadata": {
        "id": "nwE8US5MINx5"
      }
    },
    {
      "cell_type": "markdown",
      "source": [
        "# 1. Observación"
      ],
      "metadata": {
        "id": "uuO8V3PqWdSw"
      }
    },
    {
      "cell_type": "markdown",
      "source": [
        "## Librerías 1"
      ],
      "metadata": {
        "id": "1eBDHFVIbx-e"
      }
    },
    {
      "cell_type": "code",
      "source": [
        "# Para el ejemplo requerimos datos, usaremos make_blobs\n",
        "from sklearn.datasets import make_blobs\n",
        "# Para graficar usaremos matplotlib\n",
        "import matplotlib.pyplot as plt"
      ],
      "metadata": {
        "id": "aGkQdCxjIayp"
      },
      "execution_count": 1,
      "outputs": []
    },
    {
      "cell_type": "code",
      "source": [
        "make_blobs?"
      ],
      "metadata": {
        "id": "4s0i1g3CNclc"
      },
      "execution_count": 2,
      "outputs": []
    },
    {
      "cell_type": "markdown",
      "source": [
        "## Datos"
      ],
      "metadata": {
        "id": "6G-zqoA1b4Ye"
      }
    },
    {
      "cell_type": "code",
      "source": [
        "X, y_true = make_blobs(centers=3,n_samples=300,random_state=9876)"
      ],
      "metadata": {
        "id": "qkjqa6I2Ncio"
      },
      "execution_count": 3,
      "outputs": []
    },
    {
      "cell_type": "code",
      "source": [
        "X.shape"
      ],
      "metadata": {
        "colab": {
          "base_uri": "https://localhost:8080/"
        },
        "id": "jsxBYQgzN9h0",
        "outputId": "819e4de5-f5f5-4f07-bc23-ecff03368013"
      },
      "execution_count": 8,
      "outputs": [
        {
          "output_type": "execute_result",
          "data": {
            "text/plain": [
              "(300, 2)"
            ]
          },
          "metadata": {},
          "execution_count": 8
        }
      ]
    },
    {
      "cell_type": "code",
      "source": [
        "type(X)"
      ],
      "metadata": {
        "colab": {
          "base_uri": "https://localhost:8080/"
        },
        "id": "nbWYtqqEOzTQ",
        "outputId": "e53ae034-f583-4199-c4e3-8ebeff6f3d3f"
      },
      "execution_count": 9,
      "outputs": [
        {
          "output_type": "execute_result",
          "data": {
            "text/plain": [
              "numpy.ndarray"
            ]
          },
          "metadata": {},
          "execution_count": 9
        }
      ]
    },
    {
      "cell_type": "code",
      "source": [
        "X[1:5,0]"
      ],
      "metadata": {
        "colab": {
          "base_uri": "https://localhost:8080/"
        },
        "id": "WlNHnjzmQCKR",
        "outputId": "0680fbb8-a4c6-4cf9-d7a8-cf49ca111be8"
      },
      "execution_count": 10,
      "outputs": [
        {
          "output_type": "execute_result",
          "data": {
            "text/plain": [
              "array([-7.25397037,  7.72886807, -6.24981148,  7.84239589])"
            ]
          },
          "metadata": {},
          "execution_count": 10
        }
      ]
    },
    {
      "cell_type": "code",
      "source": [
        "X"
      ],
      "metadata": {
        "id": "nvyuSPxASqki"
      },
      "execution_count": null,
      "outputs": []
    },
    {
      "cell_type": "markdown",
      "source": [
        "## Visualización de X vs Y"
      ],
      "metadata": {
        "id": "4uBESuSv_GXT"
      }
    },
    {
      "cell_type": "code",
      "source": [
        "fig, ax = plt.subplots()\n",
        "# Dibujar puntos\n",
        "ax.scatter(X[:,0],y_true)\n",
        "# Mostrar el gráfico\n",
        "plt.show()"
      ],
      "metadata": {
        "colab": {
          "base_uri": "https://localhost:8080/",
          "height": 265
        },
        "outputId": "a4ce7a82-149b-4915-aabf-673d3fcc3d71",
        "id": "g-oabVYX_GXT"
      },
      "execution_count": 13,
      "outputs": [
        {
          "output_type": "display_data",
          "data": {
            "text/plain": [
              "<Figure size 432x288 with 1 Axes>"
            ],
            "image/png": "[encoded data removed]"
          },
          "metadata": {
            "needs_background": "light"
          }
        }
      ]
    },
    {
      "cell_type": "code",
      "source": [
        "fig, ax = plt.subplots()\n",
        "# Dibujar puntos\n",
        "ax.scatter(X[:,1],y_true)\n",
        "# Mostrar el gráfico\n",
        "plt.show()"
      ],
      "metadata": {
        "colab": {
          "base_uri": "https://localhost:8080/",
          "height": 265
        },
        "id": "CAgw4GUTBxSt",
        "outputId": "b2cd906a-9f23-447c-cee6-1afff5dcde56"
      },
      "execution_count": 14,
      "outputs": [
        {
          "output_type": "display_data",
          "data": {
            "text/plain": [
              "<Figure size 432x288 with 1 Axes>"
            ],
            "image/png": "[encoded data removed]"
          },
          "metadata": {
            "needs_background": "light"
          }
        }
      ]
    },
    {
      "cell_type": "markdown",
      "source": [
        "## Visualización de X"
      ],
      "metadata": {
        "id": "z8toIsOXb84a"
      }
    },
    {
      "cell_type": "code",
      "source": [
        "fig, ax = plt.subplots()\n",
        "# Dibujar puntos\n",
        "ax.scatter(X[:,0],X[:,1])\n",
        "# Guardar el gráfico en formato png\n",
        "#plt.savefig('diagrama-dispersion.png')\n",
        "# Mostrar el gráfico\n",
        "plt.show()"
      ],
      "metadata": {
        "colab": {
          "base_uri": "https://localhost:8080/",
          "height": 265
        },
        "id": "Wq5oMuUmPT3U",
        "outputId": "12e7ac11-5baf-4319-b174-0e233e5b4a56"
      },
      "execution_count": 15,
      "outputs": [
        {
          "output_type": "display_data",
          "data": {
            "text/plain": [
              "<Figure size 432x288 with 1 Axes>"
            ],
            "image/png": "[encoded data removed]"
          },
          "metadata": {
            "needs_background": "light"
          }
        }
      ]
    },
    {
      "cell_type": "markdown",
      "source": [
        "## Visualización de Y"
      ],
      "metadata": {
        "id": "ayMRXgBwcJOV"
      }
    },
    {
      "cell_type": "code",
      "source": [
        "y_true.shape"
      ],
      "metadata": {
        "colab": {
          "base_uri": "https://localhost:8080/"
        },
        "id": "3yJQ_Je7OvVw",
        "outputId": "51f820ee-f451-4d5a-9789-2e3b460be955"
      },
      "execution_count": 16,
      "outputs": [
        {
          "output_type": "execute_result",
          "data": {
            "text/plain": [
              "(300,)"
            ]
          },
          "metadata": {},
          "execution_count": 16
        }
      ]
    },
    {
      "cell_type": "code",
      "source": [
        "type(y_true)"
      ],
      "metadata": {
        "colab": {
          "base_uri": "https://localhost:8080/"
        },
        "id": "iXRdpklARiYP",
        "outputId": "5ed978af-67ec-49fe-dbf7-4ab8ef6f7a62"
      },
      "execution_count": 17,
      "outputs": [
        {
          "output_type": "execute_result",
          "data": {
            "text/plain": [
              "numpy.ndarray"
            ]
          },
          "metadata": {},
          "execution_count": 17
        }
      ]
    },
    {
      "cell_type": "code",
      "source": [
        "import numpy as np\n",
        "del1al300 = np.arange(1,301,1)\n",
        "del1al300"
      ],
      "metadata": {
        "colab": {
          "base_uri": "https://localhost:8080/"
        },
        "id": "xn3YBu-AVFR2",
        "outputId": "54d0c96e-ab55-42f5-dc34-21c09f086c15"
      },
      "execution_count": 18,
      "outputs": [
        {
          "output_type": "execute_result",
          "data": {
            "text/plain": [
              "array([  1,   2,   3,   4,   5,   6,   7,   8,   9,  10,  11,  12,  13,\n",
              "        14,  15,  16,  17,  18,  19,  20,  21,  22,  23,  24,  25,  26,\n",
              "        27,  28,  29,  30,  31,  32,  33,  34,  35,  36,  37,  38,  39,\n",
              "        40,  41,  42,  43,  44,  45,  46,  47,  48,  49,  50,  51,  52,\n",
              "        53,  54,  55,  56,  57,  58,  59,  60,  61,  62,  63,  64,  65,\n",
              "        66,  67,  68,  69,  70,  71,  72,  73,  74,  75,  76,  77,  78,\n",
              "        79,  80,  81,  82,  83,  84,  85,  86,  87,  88,  89,  90,  91,\n",
              "        92,  93,  94,  95,  96,  97,  98,  99, 100, 101, 102, 103, 104,\n",
              "       105, 106, 107, 108, 109, 110, 111, 112, 113, 114, 115, 116, 117,\n",
              "       118, 119, 120, 121, 122, 123, 124, 125, 126, 127, 128, 129, 130,\n",
              "       131, 132, 133, 134, 135, 136, 137, 138, 139, 140, 141, 142, 143,\n",
              "       144, 145, 146, 147, 148, 149, 150, 151, 152, 153, 154, 155, 156,\n",
              "       157, 158, 159, 160, 161, 162, 163, 164, 165, 166, 167, 168, 169,\n",
              "       170, 171, 172, 173, 174, 175, 176, 177, 178, 179, 180, 181, 182,\n",
              "       183, 184, 185, 186, 187, 188, 189, 190, 191, 192, 193, 194, 195,\n",
              "       196, 197, 198, 199, 200, 201, 202, 203, 204, 205, 206, 207, 208,\n",
              "       209, 210, 211, 212, 213, 214, 215, 216, 217, 218, 219, 220, 221,\n",
              "       222, 223, 224, 225, 226, 227, 228, 229, 230, 231, 232, 233, 234,\n",
              "       235, 236, 237, 238, 239, 240, 241, 242, 243, 244, 245, 246, 247,\n",
              "       248, 249, 250, 251, 252, 253, 254, 255, 256, 257, 258, 259, 260,\n",
              "       261, 262, 263, 264, 265, 266, 267, 268, 269, 270, 271, 272, 273,\n",
              "       274, 275, 276, 277, 278, 279, 280, 281, 282, 283, 284, 285, 286,\n",
              "       287, 288, 289, 290, 291, 292, 293, 294, 295, 296, 297, 298, 299,\n",
              "       300])"
            ]
          },
          "metadata": {},
          "execution_count": 18
        }
      ]
    },
    {
      "cell_type": "code",
      "source": [
        "fig, ax = plt.subplots()\n",
        "ax.scatter(del1al300,y_true)\n",
        "#ax.bar(del1al300,y_true)\n",
        "plt.show()"
      ],
      "metadata": {
        "colab": {
          "base_uri": "https://localhost:8080/",
          "height": 265
        },
        "id": "SGIsmvzOUbyc",
        "outputId": "dea8cef1-a5b2-4aef-dcf4-d6d36fb67dcc"
      },
      "execution_count": 19,
      "outputs": [
        {
          "output_type": "display_data",
          "data": {
            "text/plain": [
              "<Figure size 432x288 with 1 Axes>"
            ],
            "image/png": "[encoded data removed]"
          },
          "metadata": {
            "needs_background": "light"
          }
        }
      ]
    },
    {
      "cell_type": "markdown",
      "source": [
        "# 2. Hipótesis"
      ],
      "metadata": {
        "id": "LkL9_43ig3cs"
      }
    },
    {
      "cell_type": "markdown",
      "source": [
        "Distinguimos 3 grupos de puntos en las coordenadas X1,X2..."
      ],
      "metadata": {
        "id": "n7eoy_bdg6AG"
      }
    },
    {
      "cell_type": "markdown",
      "source": [
        "# 3. Experimentación"
      ],
      "metadata": {
        "id": "WEy79fQ9baMt"
      }
    },
    {
      "cell_type": "markdown",
      "source": [
        "## Librería 2"
      ],
      "metadata": {
        "id": "K8hbWZB6cxzl"
      }
    },
    {
      "cell_type": "code",
      "source": [
        "from sklearn.cluster import KMeans"
      ],
      "metadata": {
        "id": "CEObe5rManr9"
      },
      "execution_count": 20,
      "outputs": []
    },
    {
      "cell_type": "code",
      "source": [
        "KMeans?"
      ],
      "metadata": {
        "id": "WdTvK0ACc4NJ"
      },
      "execution_count": 21,
      "outputs": []
    },
    {
      "cell_type": "markdown",
      "source": [
        "## Entrenamiento"
      ],
      "metadata": {
        "id": "ylLK4XXm792h"
      }
    },
    {
      "cell_type": "code",
      "source": [
        "kmeans = KMeans(n_clusters=3)\n",
        "kmeans.fit(X)"
      ],
      "metadata": {
        "colab": {
          "base_uri": "https://localhost:8080/"
        },
        "id": "PELUzjJ8coiI",
        "outputId": "5dd9b747-0f86-4096-b381-345ff223121e"
      },
      "execution_count": 37,
      "outputs": [
        {
          "output_type": "execute_result",
          "data": {
            "text/plain": [
              "KMeans(n_clusters=3)"
            ]
          },
          "metadata": {},
          "execution_count": 37
        }
      ]
    },
    {
      "cell_type": "markdown",
      "source": [
        "## Predicción"
      ],
      "metadata": {
        "id": "qqwOFiVJ8Czh"
      }
    },
    {
      "cell_type": "code",
      "source": [
        "y_kmeans = kmeans.predict(X)\n",
        "y_kmeans"
      ],
      "metadata": {
        "id": "0SCmPUxTc2q5",
        "colab": {
          "base_uri": "https://localhost:8080/"
        },
        "outputId": "a19a0499-bda0-4f97-a718-ec9c3fd8c5d6"
      },
      "execution_count": 38,
      "outputs": [
        {
          "output_type": "execute_result",
          "data": {
            "text/plain": [
              "array([1, 0, 1, 0, 1, 0, 2, 0, 1, 0, 1, 0, 1, 0, 2, 1, 1, 0, 0, 0, 1, 0,\n",
              "       0, 1, 0, 2, 1, 2, 2, 0, 2, 0, 2, 2, 0, 1, 2, 2, 0, 1, 1, 0, 2, 0,\n",
              "       2, 1, 2, 0, 2, 2, 2, 0, 1, 2, 1, 1, 2, 1, 2, 0, 0, 0, 0, 1, 0, 0,\n",
              "       2, 2, 1, 0, 0, 0, 2, 2, 1, 1, 0, 2, 2, 1, 2, 0, 0, 0, 1, 2, 0, 1,\n",
              "       1, 1, 0, 2, 0, 1, 1, 1, 0, 2, 1, 1, 1, 0, 0, 0, 2, 0, 0, 2, 0, 2,\n",
              "       2, 0, 1, 1, 0, 1, 2, 0, 2, 0, 0, 1, 2, 2, 0, 0, 0, 1, 0, 1, 1, 0,\n",
              "       0, 1, 2, 0, 0, 1, 0, 2, 1, 1, 2, 2, 2, 2, 0, 1, 0, 2, 0, 2, 2, 1,\n",
              "       2, 1, 2, 1, 2, 1, 1, 1, 2, 1, 2, 0, 2, 2, 2, 1, 0, 1, 1, 2, 1, 0,\n",
              "       1, 1, 1, 0, 0, 1, 2, 0, 1, 2, 0, 1, 1, 0, 1, 2, 2, 1, 2, 2, 0, 1,\n",
              "       2, 2, 1, 0, 1, 2, 2, 0, 1, 2, 1, 0, 0, 1, 1, 0, 2, 2, 0, 2, 0, 1,\n",
              "       1, 2, 0, 2, 1, 2, 2, 2, 1, 1, 1, 1, 2, 2, 0, 2, 2, 2, 2, 2, 1, 0,\n",
              "       0, 2, 2, 2, 2, 2, 2, 0, 0, 2, 2, 1, 0, 2, 0, 0, 0, 0, 1, 1, 2, 1,\n",
              "       1, 1, 2, 1, 2, 1, 2, 0, 1, 1, 0, 0, 1, 0, 2, 0, 1, 2, 0, 0, 1, 0,\n",
              "       0, 2, 2, 1, 1, 1, 1, 2, 0, 1, 0, 0, 1, 2], dtype=int32)"
            ]
          },
          "metadata": {},
          "execution_count": 38
        }
      ]
    },
    {
      "cell_type": "code",
      "source": [
        "y_true[5]"
      ],
      "metadata": {
        "colab": {
          "base_uri": "https://localhost:8080/"
        },
        "id": "CImRHvtaD3FD",
        "outputId": "4548ef63-e88c-4a91-b633-d5ee3f8fdf4d"
      },
      "execution_count": 39,
      "outputs": [
        {
          "output_type": "execute_result",
          "data": {
            "text/plain": [
              "0"
            ]
          },
          "metadata": {},
          "execution_count": 39
        }
      ]
    },
    {
      "cell_type": "code",
      "source": [
        "y_kmeans[5]"
      ],
      "metadata": {
        "colab": {
          "base_uri": "https://localhost:8080/"
        },
        "id": "5dfeZ8BHD5Dl",
        "outputId": "d7206b9f-6a15-40f1-b029-d05578580fb6"
      },
      "execution_count": 40,
      "outputs": [
        {
          "output_type": "execute_result",
          "data": {
            "text/plain": [
              "0"
            ]
          },
          "metadata": {},
          "execution_count": 40
        }
      ]
    },
    {
      "cell_type": "code",
      "source": [
        "print(f\"El valor y_true[1]={y_true[5]} fue predicho como y_kmeans[1]={y_kmeans[5]}\")"
      ],
      "metadata": {
        "colab": {
          "base_uri": "https://localhost:8080/"
        },
        "id": "rhwGzT_PDgm0",
        "outputId": "b4752889-e7a5-4a1a-aaec-6acfba562b07"
      },
      "execution_count": 41,
      "outputs": [
        {
          "output_type": "stream",
          "name": "stdout",
          "text": [
            "El valor y_true[1]=0 fue predicho como y_kmeans[1]=0\n"
          ]
        }
      ]
    },
    {
      "cell_type": "markdown",
      "source": [
        "## Visualización"
      ],
      "metadata": {
        "id": "DnkACSkj8Muh"
      }
    },
    {
      "cell_type": "code",
      "source": [
        "plt.scatter(X[:, 0], X[:, 1], c=y_kmeans, s=50, cmap='viridis')"
      ],
      "metadata": {
        "colab": {
          "base_uri": "https://localhost:8080/",
          "height": 283
        },
        "id": "ebLWDeJVfqvl",
        "outputId": "6fadb647-db5e-4233-ebad-4dfa9640a4e3"
      },
      "execution_count": 42,
      "outputs": [
        {
          "output_type": "execute_result",
          "data": {
            "text/plain": [
              "<matplotlib.collections.PathCollection at 0x7f199461f9d0>"
            ]
          },
          "metadata": {},
          "execution_count": 42
        },
        {
          "output_type": "display_data",
          "data": {
            "text/plain": [
              "<Figure size 432x288 with 1 Axes>"
            ],
            "image/png": "[encoded data removed]"
          },
          "metadata": {
            "needs_background": "light"
          }
        }
      ]
    },
    {
      "cell_type": "code",
      "source": [
        "plt.scatter(X[:, 0], X[:, 1], c=y_kmeans, s=50, cmap='viridis',edgecolors='k')\n",
        "centers = kmeans.cluster_centers_\n",
        "plt.scatter(centers[:, 0], centers[:, 1], c='r', s=200, alpha=0.5);"
      ],
      "metadata": {
        "colab": {
          "base_uri": "https://localhost:8080/",
          "height": 265
        },
        "id": "h6CHEi_zf6rw",
        "outputId": "8f470465-f026-4cee-f0f4-b6d74dd4aee4"
      },
      "execution_count": 45,
      "outputs": [
        {
          "output_type": "display_data",
          "data": {
            "text/plain": [
              "<Figure size 432x288 with 1 Axes>"
            ],
            "image/png": "[encoded data removed]"
          },
          "metadata": {
            "needs_background": "light"
          }
        }
      ]
    },
    {
      "cell_type": "code",
      "source": [
        "centers"
      ],
      "metadata": {
        "colab": {
          "base_uri": "https://localhost:8080/"
        },
        "id": "1QtvhNTOQIaS",
        "outputId": "0f863abd-6449-46f0-b34c-20d06771af69"
      },
      "execution_count": 44,
      "outputs": [
        {
          "output_type": "execute_result",
          "data": {
            "text/plain": [
              "array([[-6.60327522,  2.60618815],\n",
              "       [ 7.90868808,  5.31210353],\n",
              "       [ 0.22282614, -8.04087757]])"
            ]
          },
          "metadata": {},
          "execution_count": 44
        }
      ]
    },
    {
      "cell_type": "markdown",
      "source": [
        "# 4. Conclusión"
      ],
      "metadata": {
        "id": "-5NoBeXm34Df"
      }
    },
    {
      "cell_type": "markdown",
      "source": [
        "..."
      ],
      "metadata": {
        "id": "BYy3AiFT4CQr"
      }
    },
    {
      "cell_type": "markdown",
      "source": [
        "# Otro ejemplo:"
      ],
      "metadata": {
        "id": "vzO8TLGE4Di_"
      }
    },
    {
      "cell_type": "code",
      "source": [
        "from sklearn.datasets import make_blobs\n",
        "from sklearn.cluster import KMeans\n",
        "import matplotlib.pyplot as plt\n",
        "\n",
        "# Generamos datos en 2D con 3 centros \n",
        "X, y_true = make_blobs(n_samples=100, centers=3, n_features=2, cluster_std=0.5, \n",
        "                       random_state=0)\n",
        "plt.scatter(X[:, 0], X[:, 1], s=30);\n",
        "\n",
        "# Ajustamos X y predecimos las clases\n",
        "kmeans = KMeans(n_clusters=3)\n",
        "kmeans.fit(X)\n",
        "y_kmeans = kmeans.predict(X)\n",
        "\n",
        "# Obtenemos los centros de los grupos K-means, notar que las dimensiones de los centros son (n_clusters, n_features)\n",
        "centers = kmeans.cluster_centers_\n",
        "\n",
        "plt.suptitle(\"3 grupos aleatorios de puntos: Los centros de los grupos fueron encontrados usando el algoritmo K-means\")\n",
        "plt.scatter(X[:, 0], X[:, 1], c=y_kmeans, s=30, cmap='jet')\n",
        "plt.scatter(centers[:, 0], centers[:, 1], c='yellow', s=300, alpha=0.5);\n",
        "\n",
        "print(X.shape)\n",
        "print(centers)\n",
        "print(\"---\")"
      ],
      "metadata": {
        "id": "6KlSws2QJOxO"
      },
      "execution_count": null,
      "outputs": []
    },
    {
      "cell_type": "markdown",
      "source": [
        "# Paso a paso... y en 1D"
      ],
      "metadata": {
        "id": "Q1qyJgBQ5mij"
      }
    },
    {
      "cell_type": "code",
      "source": [
        "coordX = [1.5,2,3,6.5,7.8,10,15,16,18,19]\n",
        "coordX"
      ],
      "metadata": {
        "colab": {
          "base_uri": "https://localhost:8080/"
        },
        "id": "YVW9ttFH4xKY",
        "outputId": "4e7bdce1-25c6-452d-baa4-089161d07b12"
      },
      "execution_count": 46,
      "outputs": [
        {
          "output_type": "execute_result",
          "data": {
            "text/plain": [
              "[1.5, 2, 3, 6.5, 7.8, 10, 15, 16, 18, 19]"
            ]
          },
          "metadata": {},
          "execution_count": 46
        }
      ]
    },
    {
      "cell_type": "code",
      "source": [
        "coordY = [1,1,1,1,1,1,1,1,1,1]\n",
        "coordY"
      ],
      "metadata": {
        "colab": {
          "base_uri": "https://localhost:8080/"
        },
        "id": "e5XzIApD54gy",
        "outputId": "94e3e1ca-a963-40c2-c035-bba360d96316"
      },
      "execution_count": 47,
      "outputs": [
        {
          "output_type": "execute_result",
          "data": {
            "text/plain": [
              "[1, 1, 1, 1, 1, 1, 1, 1, 1, 1]"
            ]
          },
          "metadata": {},
          "execution_count": 47
        }
      ]
    },
    {
      "cell_type": "code",
      "source": [
        "fig, ax = plt.subplots()\n",
        "ax.scatter(coordX,coordY)\n",
        "plt.show()"
      ],
      "metadata": {
        "colab": {
          "base_uri": "https://localhost:8080/",
          "height": 265
        },
        "id": "wi47p5yE6M05",
        "outputId": "8edcacf6-d39c-4bad-8b10-d25ad158dd27"
      },
      "execution_count": 48,
      "outputs": [
        {
          "output_type": "display_data",
          "data": {
            "text/plain": [
              "<Figure size 432x288 with 1 Axes>"
            ],
            "image/png": "[encoded data removed]"
          },
          "metadata": {
            "needs_background": "light"
          }
        }
      ]
    },
    {
      "cell_type": "code",
      "source": [
        "# Creando centros aleatorios\n",
        "center_1x,center_1y = (4,1) \n",
        "center_2x,center_2y = (9.5,1) \n",
        "center_3x,center_3y = (17,1)"
      ],
      "metadata": {
        "id": "HIEcvqbHAl_B"
      },
      "execution_count": 49,
      "outputs": []
    },
    {
      "cell_type": "code",
      "source": [
        "fig, ax = plt.subplots()\n",
        "ax.scatter(coordX,coordY)\n",
        "ax.scatter(center_1x,center_1y,s=200,c='orange')\n",
        "ax.scatter(center_2x,center_2y,s=200,c='green')\n",
        "ax.scatter(center_3x,center_3y,s=200,c='purple')\n",
        "plt.savefig('0_centros_aleatorios.png')\n",
        "plt.show()"
      ],
      "metadata": {
        "colab": {
          "base_uri": "https://localhost:8080/",
          "height": 265
        },
        "id": "HTg50TZjBCYD",
        "outputId": "f2f4e18a-2ddb-452a-f600-9a675322d6a2"
      },
      "execution_count": 50,
      "outputs": [
        {
          "output_type": "display_data",
          "data": {
            "text/plain": [
              "<Figure size 432x288 with 1 Axes>"
            ],
            "image/png": "[encoded data removed]"
          },
          "metadata": {
            "needs_background": "light"
          }
        }
      ]
    },
    {
      "cell_type": "markdown",
      "source": [
        "### Enumerate (recordando)"
      ],
      "metadata": {
        "id": "oxp7UnjWLHBB"
      }
    },
    {
      "cell_type": "code",
      "source": [
        "# Recordando como funciona \"enumerate\"\n",
        "lista = [\"a\",\"b\",\"c\"]\n",
        "\n",
        "for i in enumerate(lista):\n",
        "  print(i)"
      ],
      "metadata": {
        "colab": {
          "base_uri": "https://localhost:8080/"
        },
        "id": "6ky7xpcBCVzH",
        "outputId": "727ce60d-095b-456d-a0b3-d01bfbd09c69"
      },
      "execution_count": 51,
      "outputs": [
        {
          "output_type": "stream",
          "name": "stdout",
          "text": [
            "(0, 'a')\n",
            "(1, 'b')\n",
            "(2, 'c')\n"
          ]
        }
      ]
    },
    {
      "cell_type": "code",
      "source": [
        "type(i)"
      ],
      "metadata": {
        "colab": {
          "base_uri": "https://localhost:8080/"
        },
        "id": "BqOG5QRQKRPJ",
        "outputId": "06454dad-5ce5-414d-d2b9-865a2820c1eb"
      },
      "execution_count": 52,
      "outputs": [
        {
          "output_type": "execute_result",
          "data": {
            "text/plain": [
              "tuple"
            ]
          },
          "metadata": {},
          "execution_count": 52
        }
      ]
    },
    {
      "cell_type": "code",
      "source": [
        "i[0]"
      ],
      "metadata": {
        "colab": {
          "base_uri": "https://localhost:8080/"
        },
        "id": "5nIBbjqALDhH",
        "outputId": "71b7ce4e-f09c-49bf-9e30-3384f66ea6aa"
      },
      "execution_count": 53,
      "outputs": [
        {
          "output_type": "execute_result",
          "data": {
            "text/plain": [
              "2"
            ]
          },
          "metadata": {},
          "execution_count": 53
        }
      ]
    },
    {
      "cell_type": "code",
      "source": [
        "i[1]"
      ],
      "metadata": {
        "colab": {
          "base_uri": "https://localhost:8080/",
          "height": 36
        },
        "id": "c_WmElIJKRKT",
        "outputId": "7282bc5d-4780-44ce-c840-215cf07d8497"
      },
      "execution_count": 54,
      "outputs": [
        {
          "output_type": "execute_result",
          "data": {
            "text/plain": [
              "'c'"
            ],
            "application/vnd.google.colaboratory.intrinsic+json": {
              "type": "string"
            }
          },
          "metadata": {},
          "execution_count": 54
        }
      ]
    },
    {
      "cell_type": "markdown",
      "source": [
        "## 1er agrupamiento"
      ],
      "metadata": {
        "id": "fBIVnP_YLKho"
      }
    },
    {
      "cell_type": "code",
      "source": [
        "# El primer punto, o sea \"1.5\", a qué distancia está del primer centro?\n",
        "abs(coordX[0]-center_1x)"
      ],
      "metadata": {
        "colab": {
          "base_uri": "https://localhost:8080/"
        },
        "id": "C29w65iHLgAa",
        "outputId": "cb2a59c6-922f-4dd2-9c72-7fe39cc7efc9"
      },
      "execution_count": 55,
      "outputs": [
        {
          "output_type": "execute_result",
          "data": {
            "text/plain": [
              "2.5"
            ]
          },
          "metadata": {},
          "execution_count": 55
        }
      ]
    },
    {
      "cell_type": "code",
      "source": [
        "# Recorriendo la lista coordX\n",
        "for orden,elemento in enumerate(coordX):\n",
        "  print(\"En el orden: \",orden)\n",
        "  print(\"Es el elemento: \",elemento)"
      ],
      "metadata": {
        "colab": {
          "base_uri": "https://localhost:8080/"
        },
        "id": "owOwZYM7MW6v",
        "outputId": "b7118e48-7db4-4440-937d-2bc3da97ce7f"
      },
      "execution_count": 57,
      "outputs": [
        {
          "output_type": "stream",
          "name": "stdout",
          "text": [
            "En el orden:  0\n",
            "Es el elemento:  1.5\n",
            "En el orden:  1\n",
            "Es el elemento:  2\n",
            "En el orden:  2\n",
            "Es el elemento:  3\n",
            "En el orden:  3\n",
            "Es el elemento:  6.5\n",
            "En el orden:  4\n",
            "Es el elemento:  7.8\n",
            "En el orden:  5\n",
            "Es el elemento:  10\n",
            "En el orden:  6\n",
            "Es el elemento:  15\n",
            "En el orden:  7\n",
            "Es el elemento:  16\n",
            "En el orden:  8\n",
            "Es el elemento:  18\n",
            "En el orden:  9\n",
            "Es el elemento:  19\n"
          ]
        }
      ]
    },
    {
      "cell_type": "code",
      "source": [
        "# Veamos a todas las distancias al primer centro:\n",
        "for orden,elemento in enumerate(coordX):\n",
        "  print(f\"La distancia del 1er centro al elemento de orden {orden} es {abs(elemento-center_1x)}\")"
      ],
      "metadata": {
        "colab": {
          "base_uri": "https://localhost:8080/"
        },
        "id": "DQerhvdmLf9X",
        "outputId": "b93be512-b5c1-476e-8e97-f154d99686c1"
      },
      "execution_count": 58,
      "outputs": [
        {
          "output_type": "stream",
          "name": "stdout",
          "text": [
            "La distancia del 1er centro al elemento de orden 0 es 2.5\n",
            "La distancia del 1er centro al elemento de orden 1 es 2\n",
            "La distancia del 1er centro al elemento de orden 2 es 1\n",
            "La distancia del 1er centro al elemento de orden 3 es 2.5\n",
            "La distancia del 1er centro al elemento de orden 4 es 3.8\n",
            "La distancia del 1er centro al elemento de orden 5 es 6\n",
            "La distancia del 1er centro al elemento de orden 6 es 11\n",
            "La distancia del 1er centro al elemento de orden 7 es 12\n",
            "La distancia del 1er centro al elemento de orden 8 es 14\n",
            "La distancia del 1er centro al elemento de orden 9 es 15\n"
          ]
        }
      ]
    },
    {
      "cell_type": "code",
      "source": [
        "# Y ahora al segundo centro:\n",
        "for orden,elemento in enumerate(coordX):\n",
        "  print(f\"La distancia del 2do centro al elemento de orden {orden} es {abs(elemento-center_2x)}\")"
      ],
      "metadata": {
        "colab": {
          "base_uri": "https://localhost:8080/"
        },
        "id": "NlNOZ-2RNgOT",
        "outputId": "212c6dbe-3f73-437f-9987-4cf7d89639f4"
      },
      "execution_count": 59,
      "outputs": [
        {
          "output_type": "stream",
          "name": "stdout",
          "text": [
            "La distancia del 2do centro al elemento de orden 0 es 8.0\n",
            "La distancia del 2do centro al elemento de orden 1 es 7.5\n",
            "La distancia del 2do centro al elemento de orden 2 es 6.5\n",
            "La distancia del 2do centro al elemento de orden 3 es 3.0\n",
            "La distancia del 2do centro al elemento de orden 4 es 1.7000000000000002\n",
            "La distancia del 2do centro al elemento de orden 5 es 0.5\n",
            "La distancia del 2do centro al elemento de orden 6 es 5.5\n",
            "La distancia del 2do centro al elemento de orden 7 es 6.5\n",
            "La distancia del 2do centro al elemento de orden 8 es 8.5\n",
            "La distancia del 2do centro al elemento de orden 9 es 9.5\n"
          ]
        }
      ]
    },
    {
      "cell_type": "code",
      "source": [
        "# Y por último al tercer centro:\n",
        "for orden,elemento in enumerate(coordX):\n",
        "  print(f\"La distancia del 3er centro al elemento de orden {orden} es {abs(elemento-center_3x)}\")"
      ],
      "metadata": {
        "colab": {
          "base_uri": "https://localhost:8080/"
        },
        "id": "3Q5HQFatNgLG",
        "outputId": "a069fb90-b619-494c-f096-e95cf71b0917"
      },
      "execution_count": 60,
      "outputs": [
        {
          "output_type": "stream",
          "name": "stdout",
          "text": [
            "La distancia del 3er centro al elemento de orden 0 es 15.5\n",
            "La distancia del 3er centro al elemento de orden 1 es 15\n",
            "La distancia del 3er centro al elemento de orden 2 es 14\n",
            "La distancia del 3er centro al elemento de orden 3 es 10.5\n",
            "La distancia del 3er centro al elemento de orden 4 es 9.2\n",
            "La distancia del 3er centro al elemento de orden 5 es 7\n",
            "La distancia del 3er centro al elemento de orden 6 es 2\n",
            "La distancia del 3er centro al elemento de orden 7 es 1\n",
            "La distancia del 3er centro al elemento de orden 8 es 1\n",
            "La distancia del 3er centro al elemento de orden 9 es 2\n"
          ]
        }
      ]
    },
    {
      "cell_type": "code",
      "source": [
        "# Distingamos los grupos\n",
        "lista_de_centros = [center_1x,center_2x,center_3x]\n",
        "\n",
        "for centro in lista_de_centros:\n",
        "  for ordinal,element in enumerate(coordX):\n",
        "    if abs(coordX[ordinal]-centro) <= 3:\n",
        "      print(f\"el elemento {element} pertenece al grupo con centro en {centro}\")"
      ],
      "metadata": {
        "colab": {
          "base_uri": "https://localhost:8080/"
        },
        "id": "ofPnO46LCVvl",
        "outputId": "34d39b3d-c301-4fe2-fc8f-a63e08d45b17"
      },
      "execution_count": 61,
      "outputs": [
        {
          "output_type": "stream",
          "name": "stdout",
          "text": [
            "el elemento 1.5 pertenece al grupo con centro en 4\n",
            "el elemento 2 pertenece al grupo con centro en 4\n",
            "el elemento 3 pertenece al grupo con centro en 4\n",
            "el elemento 6.5 pertenece al grupo con centro en 4\n",
            "el elemento 6.5 pertenece al grupo con centro en 9.5\n",
            "el elemento 7.8 pertenece al grupo con centro en 9.5\n",
            "el elemento 10 pertenece al grupo con centro en 9.5\n",
            "el elemento 15 pertenece al grupo con centro en 17\n",
            "el elemento 16 pertenece al grupo con centro en 17\n",
            "el elemento 18 pertenece al grupo con centro en 17\n",
            "el elemento 19 pertenece al grupo con centro en 17\n"
          ]
        }
      ]
    },
    {
      "cell_type": "code",
      "source": [
        "# Hagamos una lista de los grupos (diccionario)\n",
        "lista_de_centros = [center_1x,center_2x,center_3x]\n",
        "grupos = {}\n",
        "\n",
        "for j,centro in enumerate(lista_de_centros):\n",
        "  nombre_lista = \"grupo_\" + str(j+1)\n",
        "  grupos[nombre_lista] = []\n",
        "  for ordinal,element in enumerate(coordX):\n",
        "    if (abs(coordX[ordinal]-centro) < 3):\n",
        "      grupos[nombre_lista].append(element)\n",
        "\n",
        "print(grupos)"
      ],
      "metadata": {
        "colab": {
          "base_uri": "https://localhost:8080/"
        },
        "id": "IknGX-kTh103",
        "outputId": "b0f4e30d-3d9c-4220-8c64-b1c67383eedf"
      },
      "execution_count": 62,
      "outputs": [
        {
          "output_type": "stream",
          "name": "stdout",
          "text": [
            "{'grupo_1': [1.5, 2, 3, 6.5], 'grupo_2': [7.8, 10], 'grupo_3': [15, 16, 18, 19]}\n"
          ]
        }
      ]
    },
    {
      "cell_type": "code",
      "source": [
        "#Graficando el resultado del agrupamiento\n",
        "#OJO: manualmente se empleó [1,1,1,1] como eje Y ya que no es relevante en el ejemplo\n",
        "\n",
        "fig, ax = plt.subplots()\n",
        "ax.scatter(grupos['grupo_1'],[1,1,1,1],c='r',marker='*')\n",
        "ax.scatter(grupos['grupo_2'],[1,1],c='b',marker='v')\n",
        "ax.scatter(grupos['grupo_3'],[1,1,1,1],c='m',marker='+')\n",
        "\n",
        "ax.scatter(center_1x,center_1y,s=200,c='orange')\n",
        "ax.scatter(center_2x,center_2y,s=200,c='g')\n",
        "ax.scatter(center_3x,center_3y,s=200,c='purple')\n",
        "\n",
        "plt.savefig('1er_agrupamiento.png')\n",
        "\n",
        "plt.show()"
      ],
      "metadata": {
        "colab": {
          "base_uri": "https://localhost:8080/",
          "height": 265
        },
        "id": "U0ieMGb_our9",
        "outputId": "12357da6-4274-401f-e29f-4ea962909193"
      },
      "execution_count": 63,
      "outputs": [
        {
          "output_type": "display_data",
          "data": {
            "text/plain": [
              "<Figure size 432x288 with 1 Axes>"
            ],
            "image/png": "[encoded data removed]"
          },
          "metadata": {
            "needs_background": "light"
          }
        }
      ]
    },
    {
      "cell_type": "markdown",
      "source": [
        "## Actualizamos los centros"
      ],
      "metadata": {
        "id": "CNLoi7-9baIF"
      }
    },
    {
      "cell_type": "code",
      "source": [
        "center_1x = sum(grupos['grupo_1'])/len(grupos['grupo_1'])\n",
        "center_2x = sum(grupos['grupo_2'])/len(grupos['grupo_2'])\n",
        "center_3x = sum(grupos['grupo_3'])/len(grupos['grupo_3'])\n",
        "\n",
        "print(center_1x,center_2x,center_3x)"
      ],
      "metadata": {
        "colab": {
          "base_uri": "https://localhost:8080/"
        },
        "id": "WJmuv6EHvrs2",
        "outputId": "3a301858-a641-4ae7-b563-47dcd511947a"
      },
      "execution_count": 64,
      "outputs": [
        {
          "output_type": "stream",
          "name": "stdout",
          "text": [
            "3.25 8.9 17.0\n"
          ]
        }
      ]
    },
    {
      "cell_type": "code",
      "source": [
        "fig, ax = plt.subplots()\n",
        "ax.scatter(coordX,coordY)\n",
        "\n",
        "ax.scatter(center_1x,center_1y,s=200,c='orange')\n",
        "ax.scatter(center_2x,center_2y,s=200,c='green')\n",
        "ax.scatter(center_3x,center_3y,s=200,c='purple')\n",
        "\n",
        "plt.show()"
      ],
      "metadata": {
        "colab": {
          "base_uri": "https://localhost:8080/",
          "height": 265
        },
        "id": "4A8NwO3-wSNL",
        "outputId": "b3966b0c-1455-4564-d9da-638e56c26bfa"
      },
      "execution_count": 65,
      "outputs": [
        {
          "output_type": "display_data",
          "data": {
            "text/plain": [
              "<Figure size 432x288 with 1 Axes>"
            ],
            "image/png": "[encoded data removed]"
          },
          "metadata": {
            "needs_background": "light"
          }
        }
      ]
    },
    {
      "cell_type": "markdown",
      "source": [
        "## 2do agrupamiento"
      ],
      "metadata": {
        "id": "qPk0FnO2xCXJ"
      }
    },
    {
      "cell_type": "code",
      "source": [
        "# Distingamos los grupos\n",
        "lista_de_centros = [center_1x,center_2x,center_3x]\n",
        "\n",
        "for centro in lista_de_centros:\n",
        "  for ordinal,element in enumerate(coordX):\n",
        "    if abs(coordX[ordinal]-centro) < 3:\n",
        "      print(f\"el elemento {element} pertenece al grupo con centro en {centro}\")"
      ],
      "metadata": {
        "colab": {
          "base_uri": "https://localhost:8080/"
        },
        "outputId": "06c7919b-6e3b-4e74-cad2-8d706a8dd1c9",
        "id": "leuKysvdxV12"
      },
      "execution_count": 66,
      "outputs": [
        {
          "output_type": "stream",
          "name": "stdout",
          "text": [
            "el elemento 1.5 pertenece al grupo con centro en 3.25\n",
            "el elemento 2 pertenece al grupo con centro en 3.25\n",
            "el elemento 3 pertenece al grupo con centro en 3.25\n",
            "el elemento 6.5 pertenece al grupo con centro en 8.9\n",
            "el elemento 7.8 pertenece al grupo con centro en 8.9\n",
            "el elemento 10 pertenece al grupo con centro en 8.9\n",
            "el elemento 15 pertenece al grupo con centro en 17.0\n",
            "el elemento 16 pertenece al grupo con centro en 17.0\n",
            "el elemento 18 pertenece al grupo con centro en 17.0\n",
            "el elemento 19 pertenece al grupo con centro en 17.0\n"
          ]
        }
      ]
    },
    {
      "cell_type": "code",
      "source": [
        "# Hagamos una lista de los grupos (diccionario)\n",
        "lista_de_centros = [center_1x,center_2x,center_3x]\n",
        "grupos = {}\n",
        "\n",
        "for j,centro in enumerate(lista_de_centros):\n",
        "  nombre_lista = \"grupo_\" + str(j+1)\n",
        "  grupos[nombre_lista] = []\n",
        "  for ordinal,element in enumerate(coordX):\n",
        "    if (abs(coordX[ordinal]-centro) < 3):\n",
        "      grupos[nombre_lista].append(element)\n",
        "\n",
        "print(grupos)"
      ],
      "metadata": {
        "colab": {
          "base_uri": "https://localhost:8080/"
        },
        "outputId": "c5a5ea94-9282-4931-94bb-6b0f6db2fdb9",
        "id": "Y8WDQzCRxV13"
      },
      "execution_count": 67,
      "outputs": [
        {
          "output_type": "stream",
          "name": "stdout",
          "text": [
            "{'grupo_1': [1.5, 2, 3], 'grupo_2': [6.5, 7.8, 10], 'grupo_3': [15, 16, 18, 19]}\n"
          ]
        }
      ]
    },
    {
      "cell_type": "code",
      "source": [
        "#Graficando el resultado del agrupamiento\n",
        "#OJO: manualmente se empleó [1,1,1,1] como eje Y ya que no es relevante en el ejemplo\n",
        "\n",
        "fig, ax = plt.subplots()\n",
        "ax.scatter(grupos['grupo_1'],[1,1,1],c='r',marker='*')\n",
        "ax.scatter(grupos['grupo_2'],[1,1,1],c='b',marker='v')\n",
        "ax.scatter(grupos['grupo_3'],[1,1,1,1],c='m',marker='+')\n",
        "\n",
        "ax.scatter(center_1x,center_1y,s=200,c='orange')\n",
        "ax.scatter(center_2x,center_2y,s=200,c='g')\n",
        "ax.scatter(center_3x,center_3y,s=200,c='purple')\n",
        "\n",
        "plt.savefig('2do_agrupamiento.png')\n",
        "\n",
        "plt.show()"
      ],
      "metadata": {
        "colab": {
          "base_uri": "https://localhost:8080/",
          "height": 265
        },
        "id": "JWo_ptuDwSGC",
        "outputId": "463bf85d-2d74-4ee4-f6e3-f8231defd4d6"
      },
      "execution_count": 68,
      "outputs": [
        {
          "output_type": "display_data",
          "data": {
            "text/plain": [
              "<Figure size 432x288 with 1 Axes>"
            ],
            "image/png": "[encoded data removed]"
          },
          "metadata": {
            "needs_background": "light"
          }
        }
      ]
    },
    {
      "cell_type": "markdown",
      "source": [
        "## Actualizamos los centros"
      ],
      "metadata": {
        "id": "DW6Sd8VQ1O4c"
      }
    },
    {
      "cell_type": "code",
      "source": [
        "center_1x = sum(grupos['grupo_1'])/len(grupos['grupo_1'])\n",
        "center_2x = sum(grupos['grupo_2'])/len(grupos['grupo_2'])\n",
        "center_3x = sum(grupos['grupo_3'])/len(grupos['grupo_3'])\n",
        "\n",
        "print(center_1x,center_2x,center_3x)"
      ],
      "metadata": {
        "colab": {
          "base_uri": "https://localhost:8080/"
        },
        "id": "vVnu2II5PD1o",
        "outputId": "19200050-2d8e-4a98-891c-a78ba13a0e8c"
      },
      "execution_count": 69,
      "outputs": [
        {
          "output_type": "stream",
          "name": "stdout",
          "text": [
            "2.1666666666666665 8.1 17.0\n"
          ]
        }
      ]
    },
    {
      "cell_type": "code",
      "source": [
        "fig, ax = plt.subplots()\n",
        "ax.scatter(coordX,coordY)\n",
        "\n",
        "ax.scatter(center_1x,center_1y,s=200,c='orange')\n",
        "ax.scatter(center_2x,center_2y,s=200,c='green')\n",
        "ax.scatter(center_3x,center_3y,s=200,c='purple')\n",
        "\n",
        "plt.show()"
      ],
      "metadata": {
        "colab": {
          "base_uri": "https://localhost:8080/",
          "height": 265
        },
        "id": "Sg3-1LHXwQWZ",
        "outputId": "9e88b116-5614-4d81-d015-eedcc5856e5d"
      },
      "execution_count": 70,
      "outputs": [
        {
          "output_type": "display_data",
          "data": {
            "text/plain": [
              "<Figure size 432x288 with 1 Axes>"
            ],
            "image/png": "[encoded data removed]"
          },
          "metadata": {
            "needs_background": "light"
          }
        }
      ]
    },
    {
      "cell_type": "markdown",
      "source": [
        "## 3er agrupamiento"
      ],
      "metadata": {
        "id": "GcXPJNLE1d2_"
      }
    },
    {
      "cell_type": "code",
      "source": [
        "# Distingamos los grupos\n",
        "lista_de_centros = [center_1x,center_2x,center_3x]\n",
        "\n",
        "for centro in lista_de_centros:\n",
        "  for ordinal,element in enumerate(coordX):\n",
        "    if abs(coordX[ordinal]-centro) < 3:\n",
        "      print(f\"el elemento {element} pertenece al grupo con centro en {centro}\")"
      ],
      "metadata": {
        "colab": {
          "base_uri": "https://localhost:8080/"
        },
        "outputId": "da71bd6a-e651-4579-9f45-a6b5d59d69b6",
        "id": "c9vybXfu1kBK"
      },
      "execution_count": 71,
      "outputs": [
        {
          "output_type": "stream",
          "name": "stdout",
          "text": [
            "el elemento 1.5 pertenece al grupo con centro en 2.1666666666666665\n",
            "el elemento 2 pertenece al grupo con centro en 2.1666666666666665\n",
            "el elemento 3 pertenece al grupo con centro en 2.1666666666666665\n",
            "el elemento 6.5 pertenece al grupo con centro en 8.1\n",
            "el elemento 7.8 pertenece al grupo con centro en 8.1\n",
            "el elemento 10 pertenece al grupo con centro en 8.1\n",
            "el elemento 15 pertenece al grupo con centro en 17.0\n",
            "el elemento 16 pertenece al grupo con centro en 17.0\n",
            "el elemento 18 pertenece al grupo con centro en 17.0\n",
            "el elemento 19 pertenece al grupo con centro en 17.0\n"
          ]
        }
      ]
    },
    {
      "cell_type": "code",
      "source": [
        "# Hagamos una lista de los grupos (diccionario)\n",
        "lista_de_centros = [center_1x,center_2x,center_3x]\n",
        "grupos = {}\n",
        "\n",
        "for j,centro in enumerate(lista_de_centros):\n",
        "  nombre_lista = \"grupo_\" + str(j+1)\n",
        "  grupos[nombre_lista] = []\n",
        "  for ordinal,element in enumerate(coordX):\n",
        "    if (abs(coordX[ordinal]-centro) < 3):\n",
        "      grupos[nombre_lista].append(element)\n",
        "\n",
        "print(grupos)"
      ],
      "metadata": {
        "colab": {
          "base_uri": "https://localhost:8080/"
        },
        "outputId": "458eaa3a-bb15-40b3-a1aa-7a74de08239a",
        "id": "wkH_8Rfz1kBK"
      },
      "execution_count": 72,
      "outputs": [
        {
          "output_type": "stream",
          "name": "stdout",
          "text": [
            "{'grupo_1': [1.5, 2, 3], 'grupo_2': [6.5, 7.8, 10], 'grupo_3': [15, 16, 18, 19]}\n"
          ]
        }
      ]
    },
    {
      "cell_type": "code",
      "source": [
        "#Graficando el resultado del agrupamiento\n",
        "#OJO: manualmente se empleó [1,1,1,1] como eje Y ya que no es relevante en el ejemplo\n",
        "\n",
        "fig, ax = plt.subplots()\n",
        "ax.scatter(grupos['grupo_1'],[1,1,1],c='r',marker='*')\n",
        "ax.scatter(grupos['grupo_2'],[1,1,1],c='b',marker='v')\n",
        "ax.scatter(grupos['grupo_3'],[1,1,1,1],c='m',marker='+')\n",
        "\n",
        "ax.scatter(center_1x,center_1y,s=200,c='orange')\n",
        "ax.scatter(center_2x,center_2y,s=200,c='g')\n",
        "ax.scatter(center_3x,center_3y,s=200,c='purple')\n",
        "\n",
        "plt.savefig('3er_agrupamiento.png')\n",
        "\n",
        "plt.show()"
      ],
      "metadata": {
        "colab": {
          "base_uri": "https://localhost:8080/",
          "height": 265
        },
        "outputId": "6ce1b809-bfaa-4aee-af09-299461f5f00d",
        "id": "Ao-vrxee1kBL"
      },
      "execution_count": 73,
      "outputs": [
        {
          "output_type": "display_data",
          "data": {
            "text/plain": [
              "<Figure size 432x288 with 1 Axes>"
            ],
            "image/png": "[encoded data removed]"
          },
          "metadata": {
            "needs_background": "light"
          }
        }
      ]
    },
    {
      "cell_type": "markdown",
      "source": [
        "## Actualizamos los centros"
      ],
      "metadata": {
        "id": "l5y7TNOB3-rp"
      }
    },
    {
      "cell_type": "code",
      "source": [
        "center_1x = sum(grupos['grupo_1'])/len(grupos['grupo_1'])\n",
        "center_2x = sum(grupos['grupo_2'])/len(grupos['grupo_2'])\n",
        "center_3x = sum(grupos['grupo_3'])/len(grupos['grupo_3'])\n",
        "\n",
        "print(center_1x,center_2x,center_3x)"
      ],
      "metadata": {
        "colab": {
          "base_uri": "https://localhost:8080/"
        },
        "outputId": "968dc200-21c9-423d-8dbf-c021380fbadb",
        "id": "05qZJeKw3-r2"
      },
      "execution_count": 74,
      "outputs": [
        {
          "output_type": "stream",
          "name": "stdout",
          "text": [
            "2.1666666666666665 8.1 17.0\n"
          ]
        }
      ]
    },
    {
      "cell_type": "code",
      "source": [
        "fig, ax = plt.subplots()\n",
        "ax.scatter(coordX,coordY)\n",
        "\n",
        "ax.scatter(center_1x,center_1y,s=200,c='orange')\n",
        "ax.scatter(center_2x,center_2y,s=200,c='green')\n",
        "ax.scatter(center_3x,center_3y,s=200,c='purple')\n",
        "\n",
        "plt.show()"
      ],
      "metadata": {
        "colab": {
          "base_uri": "https://localhost:8080/",
          "height": 265
        },
        "outputId": "1a244f18-33eb-4cfc-9e9e-348c0eb5d20d",
        "id": "Gwik7eyj3-r2"
      },
      "execution_count": 75,
      "outputs": [
        {
          "output_type": "display_data",
          "data": {
            "text/plain": [
              "<Figure size 432x288 with 1 Axes>"
            ],
            "image/png": "[encoded data removed]"
          },
          "metadata": {
            "needs_background": "light"
          }
        }
      ]
    },
    {
      "cell_type": "markdown",
      "source": [
        "## 4to agrupamiento (por si las dudas)"
      ],
      "metadata": {
        "id": "dLUsROj_3-r3"
      }
    },
    {
      "cell_type": "code",
      "source": [
        "# Distingamos los grupos\n",
        "lista_de_centros = [center_1x,center_2x,center_3x]\n",
        "\n",
        "for centro in lista_de_centros:\n",
        "  for ordinal,element in enumerate(coordX):\n",
        "    if abs(coordX[ordinal]-centro) < 3:\n",
        "      print(f\"el elemento {element} pertenece al grupo con centro en {centro}\")"
      ],
      "metadata": {
        "colab": {
          "base_uri": "https://localhost:8080/"
        },
        "outputId": "eb5fccf3-2de8-4cbd-a712-a74f96a69df8",
        "id": "h2qxthAs3-r3"
      },
      "execution_count": 76,
      "outputs": [
        {
          "output_type": "stream",
          "name": "stdout",
          "text": [
            "el elemento 1.5 pertenece al grupo con centro en 2.1666666666666665\n",
            "el elemento 2 pertenece al grupo con centro en 2.1666666666666665\n",
            "el elemento 3 pertenece al grupo con centro en 2.1666666666666665\n",
            "el elemento 6.5 pertenece al grupo con centro en 8.1\n",
            "el elemento 7.8 pertenece al grupo con centro en 8.1\n",
            "el elemento 10 pertenece al grupo con centro en 8.1\n",
            "el elemento 15 pertenece al grupo con centro en 17.0\n",
            "el elemento 16 pertenece al grupo con centro en 17.0\n",
            "el elemento 18 pertenece al grupo con centro en 17.0\n",
            "el elemento 19 pertenece al grupo con centro en 17.0\n"
          ]
        }
      ]
    },
    {
      "cell_type": "code",
      "source": [
        "# Hagamos una lista de los grupos (diccionario)\n",
        "lista_de_centros = [center_1x,center_2x,center_3x]\n",
        "grupos = {}\n",
        "\n",
        "for j,centro in enumerate(lista_de_centros):\n",
        "  nombre_lista = \"grupo_\" + str(j+1)\n",
        "  grupos[nombre_lista] = []\n",
        "  for ordinal,element in enumerate(coordX):\n",
        "    if (abs(coordX[ordinal]-centro) < 3):\n",
        "      grupos[nombre_lista].append(element)\n",
        "\n",
        "print(grupos)"
      ],
      "metadata": {
        "colab": {
          "base_uri": "https://localhost:8080/"
        },
        "outputId": "d8bef8e4-65dc-4278-eeb6-bce3acb5d5b5",
        "id": "7IFG9ups3-r3"
      },
      "execution_count": 77,
      "outputs": [
        {
          "output_type": "stream",
          "name": "stdout",
          "text": [
            "{'grupo_1': [1.5, 2, 3], 'grupo_2': [6.5, 7.8, 10], 'grupo_3': [15, 16, 18, 19]}\n"
          ]
        }
      ]
    },
    {
      "cell_type": "code",
      "source": [
        "#Graficando el resultado del agrupamiento\n",
        "#OJO: manualmente se empleó [1,1,1,1] como eje Y ya que no es relevante en el ejemplo\n",
        "\n",
        "fig, ax = plt.subplots()\n",
        "ax.scatter(grupos['grupo_1'],[1,1,1],c='r',marker='*')\n",
        "ax.scatter(grupos['grupo_2'],[1,1,1],c='b',marker='v')\n",
        "ax.scatter(grupos['grupo_3'],[1,1,1,1],c='m',marker='+')\n",
        "\n",
        "ax.scatter(center_1x,center_1y,s=200,c='orange')\n",
        "ax.scatter(center_2x,center_2y,s=200,c='g')\n",
        "ax.scatter(center_3x,center_3y,s=200,c='purple')\n",
        "\n",
        "plt.savefig('4to_agrupamiento.png')\n",
        "\n",
        "plt.show()"
      ],
      "metadata": {
        "colab": {
          "base_uri": "https://localhost:8080/",
          "height": 265
        },
        "outputId": "dad64e8b-786e-470e-855f-fd94c1bd5613",
        "id": "Mj_xm97r3-r3"
      },
      "execution_count": 78,
      "outputs": [
        {
          "output_type": "display_data",
          "data": {
            "text/plain": [
              "<Figure size 432x288 with 1 Axes>"
            ],
            "image/png": "[encoded data removed]"
          },
          "metadata": {
            "needs_background": "light"
          }
        }
      ]
    },
    {
      "cell_type": "code",
      "source": [
        "center_1x = sum(grupos['grupo_1'])/len(grupos['grupo_1'])\n",
        "center_2x = sum(grupos['grupo_2'])/len(grupos['grupo_2'])\n",
        "center_3x = sum(grupos['grupo_3'])/len(grupos['grupo_3'])\n",
        "\n",
        "print(center_1x,center_2x,center_3x)"
      ],
      "metadata": {
        "colab": {
          "base_uri": "https://localhost:8080/"
        },
        "id": "ss7BmOVD6nzI",
        "outputId": "c1b2c92c-1cf5-4396-f6ca-44d658db7b39"
      },
      "execution_count": 79,
      "outputs": [
        {
          "output_type": "stream",
          "name": "stdout",
          "text": [
            "2.1666666666666665 8.1 17.0\n"
          ]
        }
      ]
    },
    {
      "cell_type": "markdown",
      "source": [
        "Evolución de los centros\n",
        "\n",
        "[centros aleatorios] 4,  9.5,  17\n",
        "\n",
        "[1er agrupamiento] 3.25,  8.9,  17.0\n",
        "\n",
        "[2do agrupamiento] 2.16,  8.1,  17.0\n",
        "\n",
        "[3er agrupamiento] 2.16,  8.1,  17.0\n",
        "\n",
        "[4to agrupamiento] 2.16,  8.1,  17.0"
      ],
      "metadata": {
        "id": "DIMj_wk253Jt"
      }
    }
  ]
}